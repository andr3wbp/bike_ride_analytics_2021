{
 "cells": [
  {
   "cell_type": "code",
   "execution_count": 37,
   "id": "fancy-place",
   "metadata": {},
   "outputs": [],
   "source": [
    "import pandas as pd\n",
    "import os\n",
    "import gpxpy\n",
    "import matplotlib.pyplot as plt"
   ]
  },
  {
   "cell_type": "code",
   "execution_count": 38,
   "id": "confirmed-planner",
   "metadata": {},
   "outputs": [],
   "source": [
    "data_folder = \".\\data\"\n",
    "file_list = os.listdir(data_folder)"
   ]
  },
  {
   "cell_type": "code",
   "execution_count": 39,
   "id": "italic-rabbit",
   "metadata": {},
   "outputs": [
    {
     "data": {
      "text/plain": [
       "['Andrew_Szabo_2021-06-25_04-37-58.CSV',\n",
       " 'Andrew_Szabo_2021-06-25_04-37-58.GPX',\n",
       " 'Andrew_Szabo_2021-06-25_04-37-58_RR.CSV']"
      ]
     },
     "execution_count": 39,
     "metadata": {},
     "output_type": "execute_result"
    }
   ],
   "source": [
    "file_list"
   ]
  },
  {
   "cell_type": "code",
   "execution_count": 40,
   "id": "eastern-equilibrium",
   "metadata": {},
   "outputs": [],
   "source": [
    "for index, file in enumerate(file_list):\n",
    "    file = (index, data_folder + '\\\\' + file)\n",
    "    file_list[index] = file"
   ]
  },
  {
   "cell_type": "code",
   "execution_count": 41,
   "id": "failing-france",
   "metadata": {},
   "outputs": [
    {
     "data": {
      "text/plain": [
       "[(0, '.\\\\data\\\\Andrew_Szabo_2021-06-25_04-37-58.CSV'),\n",
       " (1, '.\\\\data\\\\Andrew_Szabo_2021-06-25_04-37-58.GPX'),\n",
       " (2, '.\\\\data\\\\Andrew_Szabo_2021-06-25_04-37-58_RR.CSV')]"
      ]
     },
     "execution_count": 41,
     "metadata": {},
     "output_type": "execute_result"
    }
   ],
   "source": [
    "file_list"
   ]
  },
  {
   "cell_type": "code",
   "execution_count": 42,
   "id": "blessed-madonna",
   "metadata": {},
   "outputs": [],
   "source": [
    "labels = ['training', 'gps', 'heart_rate']\n",
    "labels = list(zip(range(3), labels))"
   ]
  },
  {
   "cell_type": "code",
   "execution_count": 43,
   "id": "hidden-optimum",
   "metadata": {},
   "outputs": [
    {
     "data": {
      "text/plain": [
       "[(0, 'training'), (1, 'gps'), (2, 'heart_rate')]"
      ]
     },
     "execution_count": 43,
     "metadata": {},
     "output_type": "execute_result"
    }
   ],
   "source": [
    "labels"
   ]
  },
  {
   "cell_type": "code",
   "execution_count": 44,
   "id": "several-defensive",
   "metadata": {},
   "outputs": [],
   "source": [
    "df1 = pd.DataFrame(file_list, columns=['index', 'file_path']).set_index('index')\n",
    "df2 = pd.DataFrame(labels, columns=['index', 'label']).set_index('index')"
   ]
  },
  {
   "cell_type": "code",
   "execution_count": 45,
   "id": "motivated-bargain",
   "metadata": {},
   "outputs": [
    {
     "data": {
      "text/html": [
       "<div>\n",
       "<style scoped>\n",
       "    .dataframe tbody tr th:only-of-type {\n",
       "        vertical-align: middle;\n",
       "    }\n",
       "\n",
       "    .dataframe tbody tr th {\n",
       "        vertical-align: top;\n",
       "    }\n",
       "\n",
       "    .dataframe thead th {\n",
       "        text-align: right;\n",
       "    }\n",
       "</style>\n",
       "<table border=\"1\" class=\"dataframe\">\n",
       "  <thead>\n",
       "    <tr style=\"text-align: right;\">\n",
       "      <th></th>\n",
       "      <th>file_path</th>\n",
       "    </tr>\n",
       "    <tr>\n",
       "      <th>index</th>\n",
       "      <th></th>\n",
       "    </tr>\n",
       "  </thead>\n",
       "  <tbody>\n",
       "    <tr>\n",
       "      <th>0</th>\n",
       "      <td>.\\data\\Andrew_Szabo_2021-06-25_04-37-58.CSV</td>\n",
       "    </tr>\n",
       "    <tr>\n",
       "      <th>1</th>\n",
       "      <td>.\\data\\Andrew_Szabo_2021-06-25_04-37-58.GPX</td>\n",
       "    </tr>\n",
       "    <tr>\n",
       "      <th>2</th>\n",
       "      <td>.\\data\\Andrew_Szabo_2021-06-25_04-37-58_RR.CSV</td>\n",
       "    </tr>\n",
       "  </tbody>\n",
       "</table>\n",
       "</div>"
      ],
      "text/plain": [
       "                                            file_path\n",
       "index                                                \n",
       "0         .\\data\\Andrew_Szabo_2021-06-25_04-37-58.CSV\n",
       "1         .\\data\\Andrew_Szabo_2021-06-25_04-37-58.GPX\n",
       "2      .\\data\\Andrew_Szabo_2021-06-25_04-37-58_RR.CSV"
      ]
     },
     "metadata": {},
     "output_type": "display_data"
    },
    {
     "data": {
      "text/html": [
       "<div>\n",
       "<style scoped>\n",
       "    .dataframe tbody tr th:only-of-type {\n",
       "        vertical-align: middle;\n",
       "    }\n",
       "\n",
       "    .dataframe tbody tr th {\n",
       "        vertical-align: top;\n",
       "    }\n",
       "\n",
       "    .dataframe thead th {\n",
       "        text-align: right;\n",
       "    }\n",
       "</style>\n",
       "<table border=\"1\" class=\"dataframe\">\n",
       "  <thead>\n",
       "    <tr style=\"text-align: right;\">\n",
       "      <th></th>\n",
       "      <th>label</th>\n",
       "    </tr>\n",
       "    <tr>\n",
       "      <th>index</th>\n",
       "      <th></th>\n",
       "    </tr>\n",
       "  </thead>\n",
       "  <tbody>\n",
       "    <tr>\n",
       "      <th>0</th>\n",
       "      <td>training</td>\n",
       "    </tr>\n",
       "    <tr>\n",
       "      <th>1</th>\n",
       "      <td>gps</td>\n",
       "    </tr>\n",
       "    <tr>\n",
       "      <th>2</th>\n",
       "      <td>heart_rate</td>\n",
       "    </tr>\n",
       "  </tbody>\n",
       "</table>\n",
       "</div>"
      ],
      "text/plain": [
       "            label\n",
       "index            \n",
       "0        training\n",
       "1             gps\n",
       "2      heart_rate"
      ]
     },
     "metadata": {},
     "output_type": "display_data"
    }
   ],
   "source": [
    "display(df1)\n",
    "display(df2)"
   ]
  },
  {
   "cell_type": "code",
   "execution_count": 46,
   "id": "commercial-fever",
   "metadata": {},
   "outputs": [
    {
     "data": {
      "text/html": [
       "<div>\n",
       "<style scoped>\n",
       "    .dataframe tbody tr th:only-of-type {\n",
       "        vertical-align: middle;\n",
       "    }\n",
       "\n",
       "    .dataframe tbody tr th {\n",
       "        vertical-align: top;\n",
       "    }\n",
       "\n",
       "    .dataframe thead th {\n",
       "        text-align: right;\n",
       "    }\n",
       "</style>\n",
       "<table border=\"1\" class=\"dataframe\">\n",
       "  <thead>\n",
       "    <tr style=\"text-align: right;\">\n",
       "      <th></th>\n",
       "      <th>file_path</th>\n",
       "    </tr>\n",
       "    <tr>\n",
       "      <th>label</th>\n",
       "      <th></th>\n",
       "    </tr>\n",
       "  </thead>\n",
       "  <tbody>\n",
       "    <tr>\n",
       "      <th>training</th>\n",
       "      <td>.\\data\\Andrew_Szabo_2021-06-25_04-37-58.CSV</td>\n",
       "    </tr>\n",
       "    <tr>\n",
       "      <th>gps</th>\n",
       "      <td>.\\data\\Andrew_Szabo_2021-06-25_04-37-58.GPX</td>\n",
       "    </tr>\n",
       "    <tr>\n",
       "      <th>heart_rate</th>\n",
       "      <td>.\\data\\Andrew_Szabo_2021-06-25_04-37-58_RR.CSV</td>\n",
       "    </tr>\n",
       "  </tbody>\n",
       "</table>\n",
       "</div>"
      ],
      "text/plain": [
       "                                                 file_path\n",
       "label                                                     \n",
       "training       .\\data\\Andrew_Szabo_2021-06-25_04-37-58.CSV\n",
       "gps            .\\data\\Andrew_Szabo_2021-06-25_04-37-58.GPX\n",
       "heart_rate  .\\data\\Andrew_Szabo_2021-06-25_04-37-58_RR.CSV"
      ]
     },
     "execution_count": 46,
     "metadata": {},
     "output_type": "execute_result"
    }
   ],
   "source": [
    "df = pd.merge(df1, df2, left_index=True, right_index=True).set_index('label')\n",
    "df.head()"
   ]
  },
  {
   "cell_type": "code",
   "execution_count": 47,
   "id": "cooperative-drove",
   "metadata": {},
   "outputs": [
    {
     "data": {
      "text/plain": [
       "'.\\\\data\\\\Andrew_Szabo_2021-06-25_04-37-58.CSV'"
      ]
     },
     "execution_count": 47,
     "metadata": {},
     "output_type": "execute_result"
    }
   ],
   "source": [
    "df.loc['training','file_path']"
   ]
  },
  {
   "cell_type": "code",
   "execution_count": 48,
   "id": "veterinary-editor",
   "metadata": {},
   "outputs": [
    {
     "name": "stderr",
     "output_type": "stream",
     "text": [
      "c:\\python39\\lib\\site-packages\\IPython\\core\\interactiveshell.py:3165: DtypeWarning: Columns (0,2,3,5,6,7,8,9,10,21) have mixed types.Specify dtype option on import or set low_memory=False.\n",
      "  has_raised = await self.run_ast_nodes(code_ast.body, cell_name,\n"
     ]
    }
   ],
   "source": [
    "training = pd.read_csv(df.loc['training', 'file_path'])\n",
    "heart_rate = pd.read_csv(df.loc['heart_rate', 'file_path'])"
   ]
  },
  {
   "cell_type": "code",
   "execution_count": 49,
   "id": "loved-housing",
   "metadata": {},
   "outputs": [],
   "source": [
    "with open(df.loc['gps', 'file_path'], 'r') as f:\n",
    "    gpx_file = gpxpy.parse(f)"
   ]
  },
  {
   "cell_type": "code",
   "execution_count": 50,
   "id": "interested-bracket",
   "metadata": {
    "scrolled": true
   },
   "outputs": [
    {
     "name": "stdout",
     "output_type": "stream",
     "text": [
      "[GPXTrackPoint(46.75417833, 17.57048167, elevation=90.0, time=datetime.datetime(2021, 6, 25, 2, 37, 59, 188000, tzinfo=SimpleTZ(\"Z\"))), GPXTrackPoint(46.75417833, 17.57048167, elevation=90.0, time=datetime.datetime(2021, 6, 25, 2, 38, 0, 188000, tzinfo=SimpleTZ(\"Z\"))), GPXTrackPoint(46.754175, 17.57048, elevation=90.0, time=datetime.datetime(2021, 6, 25, 2, 38, 1, 188000, tzinfo=SimpleTZ(\"Z\"))), GPXTrackPoint(46.75415667, 17.57047667, elevation=90.0, time=datetime.datetime(2021, 6, 25, 2, 38, 2, 188000, tzinfo=SimpleTZ(\"Z\"))), GPXTrackPoint(46.75413667, 17.57047667, elevation=91.0, time=datetime.datetime(2021, 6, 25, 2, 38, 3, 188000, tzinfo=SimpleTZ(\"Z\"))), GPXTrackPoint(46.75411167, 17.57048167, elevation=91.0, time=datetime.datetime(2021, 6, 25, 2, 38, 4, 189000, tzinfo=SimpleTZ(\"Z\"))), GPXTrackPoint(46.75408167, 17.57049333, elevation=91.0, time=datetime.datetime(2021, 6, 25, 2, 38, 5, 189000, tzinfo=SimpleTZ(\"Z\"))), GPXTrackPoint(46.75404833, 17.57050667, elevation=91.0, time=datetime.datetime(2021, 6, 25, 2, 38, 6, 188000, tzinfo=SimpleTZ(\"Z\"))), GPXTrackPoint(46.75401333, 17.57051833, elevation=92.0, time=datetime.datetime(2021, 6, 25, 2, 38, 7, 188000, tzinfo=SimpleTZ(\"Z\"))), GPXTrackPoint(46.75397833, 17.570535, elevation=92.0, time=datetime.datetime(2021, 6, 25, 2, 38, 8, 188000, tzinfo=SimpleTZ(\"Z\"))), GPXTrackPoint(46.75393833, 17.57055667, elevation=93.0, time=datetime.datetime(2021, 6, 25, 2, 38, 9, 188000, tzinfo=SimpleTZ(\"Z\"))), GPXTrackPoint(46.75389667, 17.57057833, elevation=93.0, time=datetime.datetime(2021, 6, 25, 2, 38, 10, 188000, tzinfo=SimpleTZ(\"Z\"))), GPXTrackPoint(46.753855, 17.57060333, elevation=94.0, time=datetime.datetime(2021, 6, 25, 2, 38, 11, 188000, tzinfo=SimpleTZ(\"Z\"))), GPXTrackPoint(46.75381333, 17.57062667, elevation=94.0, time=datetime.datetime(2021, 6, 25, 2, 38, 12, 188000, tzinfo=SimpleTZ(\"Z\"))), GPXTrackPoint(46.75377167, 17.57065, elevation=95.0, time=datetime.datetime(2021, 6, 25, 2, 38, 13, 189000, tzinfo=SimpleTZ(\"Z\"))), GPXTrackPoint(46.75373167, 17.57067167, elevation=95.0, time=datetime.datetime(2021, 6, 25, 2, 38, 14, 188000, tzinfo=SimpleTZ(\"Z\"))), GPXTrackPoint(46.75369333, 17.57069333, elevation=96.0, time=datetime.datetime(2021, 6, 25, 2, 38, 15, 189000, tzinfo=SimpleTZ(\"Z\"))), GPXTrackPoint(46.753655, 17.57071833, elevation=96.0, time=datetime.datetime(2021, 6, 25, 2, 38, 16, 189000, tzinfo=SimpleTZ(\"Z\"))), GPXTrackPoint(46.75361667, 17.57074, elevation=97.0, time=datetime.datetime(2021, 6, 25, 2, 38, 17, 188000, tzinfo=SimpleTZ(\"Z\"))), GPXTrackPoint(46.75357833, 17.57076167, elevation=97.0, time=datetime.datetime(2021, 6, 25, 2, 38, 18, 189000, tzinfo=SimpleTZ(\"Z\"))), GPXTrackPoint(46.75353833, 17.57078833, elevation=98.0, time=datetime.datetime(2021, 6, 25, 2, 38, 19, 189000, tzinfo=SimpleTZ(\"Z\"))), GPXTrackPoint(46.7535, 17.57081167, elevation=98.0, time=datetime.datetime(2021, 6, 25, 2, 38, 20, 189000, tzinfo=SimpleTZ(\"Z\"))), GPXTrackPoint(46.75346333, 17.57082833, elevation=99.0, time=datetime.datetime(2021, 6, 25, 2, 38, 21, 188000, tzinfo=SimpleTZ(\"Z\"))), GPXTrackPoint(46.75342833, 17.570845, elevation=99.0, time=datetime.datetime(2021, 6, 25, 2, 38, 22, 189000, tzinfo=SimpleTZ(\"Z\"))), GPXTrackPoint(46.75339167, 17.57086167, elevation=100.0, time=datetime.datetime(2021, 6, 25, 2, 38, 23, 189000, tzinfo=SimpleTZ(\"Z\"))), GPXTrackPoint(46.75335333, 17.57087833, elevation=100.0, time=datetime.datetime(2021, 6, 25, 2, 38, 24, 189000, tzinfo=SimpleTZ(\"Z\"))), GPXTrackPoint(46.753315, 17.57089167, elevation=100.0, time=datetime.datetime(2021, 6, 25, 2, 38, 25, 188000, tzinfo=SimpleTZ(\"Z\"))), GPXTrackPoint(46.75327833, 17.57090667, elevation=100.0, time=datetime.datetime(2021, 6, 25, 2, 38, 26, 188000, tzinfo=SimpleTZ(\"Z\"))), GPXTrackPoint(46.75324667, 17.570925, elevation=101.0, time=datetime.datetime(2021, 6, 25, 2, 38, 27, 188000, tzinfo=SimpleTZ(\"Z\"))), GPXTrackPoint(46.75321333, 17.57095333, elevation=101.0, time=datetime.datetime(2021, 6, 25, 2, 38, 28, 189000, tzinfo=SimpleTZ(\"Z\"))), GPXTrackPoint(46.75318333, 17.57099167, elevation=101.0, time=datetime.datetime(2021, 6, 25, 2, 38, 29, 189000, tzinfo=SimpleTZ(\"Z\"))), GPXTrackPoint(46.75316667, 17.571035, elevation=101.0, time=datetime.datetime(2021, 6, 25, 2, 38, 30, 189000, tzinfo=SimpleTZ(\"Z\"))), GPXTrackPoint(46.75316333, 17.57108, elevation=102.0, time=datetime.datetime(2021, 6, 25, 2, 38, 31, 189000, tzinfo=SimpleTZ(\"Z\"))), GPXTrackPoint(46.75317167, 17.57112833, elevation=102.0, time=datetime.datetime(2021, 6, 25, 2, 38, 32, 189000, tzinfo=SimpleTZ(\"Z\"))), GPXTrackPoint(46.75318333, 17.57119333, elevation=102.0, time=datetime.datetime(2021, 6, 25, 2, 38, 33, 188000, tzinfo=SimpleTZ(\"Z\"))), GPXTrackPoint(46.75319833, 17.57126333, elevation=102.0, time=datetime.datetime(2021, 6, 25, 2, 38, 34, 189000, tzinfo=SimpleTZ(\"Z\"))), GPXTrackPoint(46.753215, 17.57133667, elevation=102.0, time=datetime.datetime(2021, 6, 25, 2, 38, 35, 189000, tzinfo=SimpleTZ(\"Z\"))), GPXTrackPoint(46.75323, 17.571415, elevation=102.0, time=datetime.datetime(2021, 6, 25, 2, 38, 36, 188000, tzinfo=SimpleTZ(\"Z\"))), GPXTrackPoint(46.753245, 17.57149333, elevation=102.0, time=datetime.datetime(2021, 6, 25, 2, 38, 37, 189000, tzinfo=SimpleTZ(\"Z\"))), GPXTrackPoint(46.75326333, 17.57156833, elevation=102.0, time=datetime.datetime(2021, 6, 25, 2, 38, 38, 189000, tzinfo=SimpleTZ(\"Z\"))), GPXTrackPoint(46.75328167, 17.57164167, elevation=101.0, time=datetime.datetime(2021, 6, 25, 2, 38, 39, 188000, tzinfo=SimpleTZ(\"Z\"))), GPXTrackPoint(46.7533, 17.571715, elevation=101.0, time=datetime.datetime(2021, 6, 25, 2, 38, 40, 189000, tzinfo=SimpleTZ(\"Z\"))), GPXTrackPoint(46.75332, 17.57179, elevation=101.0, time=datetime.datetime(2021, 6, 25, 2, 38, 41, 188000, tzinfo=SimpleTZ(\"Z\"))), GPXTrackPoint(46.75333833, 17.57186167, elevation=101.0, time=datetime.datetime(2021, 6, 25, 2, 38, 42, 189000, tzinfo=SimpleTZ(\"Z\"))), GPXTrackPoint(46.75336, 17.57194167, elevation=102.0, time=datetime.datetime(2021, 6, 25, 2, 38, 43, 189000, tzinfo=SimpleTZ(\"Z\"))), GPXTrackPoint(46.75337833, 17.57201333, elevation=102.0, time=datetime.datetime(2021, 6, 25, 2, 38, 44, 188000, tzinfo=SimpleTZ(\"Z\"))), GPXTrackPoint(46.753395, 17.572085, elevation=102.0, time=datetime.datetime(2021, 6, 25, 2, 38, 45, 188000, tzinfo=SimpleTZ(\"Z\"))), GPXTrackPoint(46.75341, 17.57215833, elevation=102.0, time=datetime.datetime(2021, 6, 25, 2, 38, 46, 188000, tzinfo=SimpleTZ(\"Z\"))), GPXTrackPoint(46.753425, 17.572235, elevation=102.0, time=datetime.datetime(2021, 6, 25, 2, 38, 47, 189000, tzinfo=SimpleTZ(\"Z\"))), GPXTrackPoint(46.75344333, 17.57230833, elevation=102.0, time=datetime.datetime(2021, 6, 25, 2, 38, 48, 189000, tzinfo=SimpleTZ(\"Z\"))), GPXTrackPoint(46.75346333, 17.57238333, elevation=102.0, time=datetime.datetime(2021, 6, 25, 2, 38, 49, 188000, tzinfo=SimpleTZ(\"Z\"))), GPXTrackPoint(46.75348, 17.57245667, elevation=102.0, time=datetime.datetime(2021, 6, 25, 2, 38, 50, 188000, tzinfo=SimpleTZ(\"Z\"))), GPXTrackPoint(46.75350333, 17.57252833, elevation=102.0, time=datetime.datetime(2021, 6, 25, 2, 38, 51, 189000, tzinfo=SimpleTZ(\"Z\"))), GPXTrackPoint(46.75353167, 17.57259833, elevation=102.0, time=datetime.datetime(2021, 6, 25, 2, 38, 52, 188000, tzinfo=SimpleTZ(\"Z\"))), GPXTrackPoint(46.75356167, 17.572665, elevation=102.0, time=datetime.datetime(2021, 6, 25, 2, 38, 53, 189000, tzinfo=SimpleTZ(\"Z\"))), GPXTrackPoint(46.75359333, 17.57273, elevation=102.0, time=datetime.datetime(2021, 6, 25, 2, 38, 54, 188000, tzinfo=SimpleTZ(\"Z\"))), GPXTrackPoint(46.75362167, 17.57279833, elevation=102.0, time=datetime.datetime(2021, 6, 25, 2, 38, 55, 189000, tzinfo=SimpleTZ(\"Z\"))), GPXTrackPoint(46.753655, 17.57286667, elevation=102.0, time=datetime.datetime(2021, 6, 25, 2, 38, 56, 189000, tzinfo=SimpleTZ(\"Z\"))), GPXTrackPoint(46.75369167, 17.57292667, elevation=101.0, time=datetime.datetime(2021, 6, 25, 2, 38, 57, 189000, tzinfo=SimpleTZ(\"Z\"))), GPXTrackPoint(46.753725, 17.57299, elevation=101.0, time=datetime.datetime(2021, 6, 25, 2, 38, 58, 189000, tzinfo=SimpleTZ(\"Z\"))), GPXTrackPoint(46.75376, 17.57305, elevation=101.0, time=datetime.datetime(2021, 6, 25, 2, 38, 59, 188000, tzinfo=SimpleTZ(\"Z\"))), GPXTrackPoint(46.75379, 17.57311833, elevation=101.0, time=datetime.datetime(2021, 6, 25, 2, 39, 0, 188000, tzinfo=SimpleTZ(\"Z\"))), GPXTrackPoint(46.75382333, 17.57318833, elevation=101.0, time=datetime.datetime(2021, 6, 25, 2, 39, 1, 189000, tzinfo=SimpleTZ(\"Z\"))), GPXTrackPoint(46.75385667, 17.57325833, elevation=101.0, time=datetime.datetime(2021, 6, 25, 2, 39, 2, 189000, tzinfo=SimpleTZ(\"Z\"))), GPXTrackPoint(46.753885, 17.57332333, elevation=101.0, time=datetime.datetime(2021, 6, 25, 2, 39, 3, 189000, tzinfo=SimpleTZ(\"Z\"))), GPXTrackPoint(46.75391, 17.57339167, elevation=101.0, time=datetime.datetime(2021, 6, 25, 2, 39, 4, 189000, tzinfo=SimpleTZ(\"Z\"))), GPXTrackPoint(46.75392833, 17.573465, elevation=100.0, time=datetime.datetime(2021, 6, 25, 2, 39, 5, 189000, tzinfo=SimpleTZ(\"Z\"))), GPXTrackPoint(46.75394, 17.57353333, elevation=100.0, time=datetime.datetime(2021, 6, 25, 2, 39, 6, 188000, tzinfo=SimpleTZ(\"Z\"))), GPXTrackPoint(46.753955, 17.57360167, elevation=100.0, time=datetime.datetime(2021, 6, 25, 2, 39, 7, 189000, tzinfo=SimpleTZ(\"Z\"))), GPXTrackPoint(46.75397, 17.57367167, elevation=99.0, time=datetime.datetime(2021, 6, 25, 2, 39, 8, 189000, tzinfo=SimpleTZ(\"Z\"))), GPXTrackPoint(46.75398, 17.57374, elevation=99.0, time=datetime.datetime(2021, 6, 25, 2, 39, 9, 189000, tzinfo=SimpleTZ(\"Z\"))), GPXTrackPoint(46.75399667, 17.57380667, elevation=99.0, time=datetime.datetime(2021, 6, 25, 2, 39, 10, 189000, tzinfo=SimpleTZ(\"Z\"))), GPXTrackPoint(46.75401167, 17.57388167, elevation=98.0, time=datetime.datetime(2021, 6, 25, 2, 39, 11, 189000, tzinfo=SimpleTZ(\"Z\"))), GPXTrackPoint(46.75403, 17.57395667, elevation=98.0, time=datetime.datetime(2021, 6, 25, 2, 39, 12, 188000, tzinfo=SimpleTZ(\"Z\"))), GPXTrackPoint(46.75404833, 17.57403, elevation=98.0, time=datetime.datetime(2021, 6, 25, 2, 39, 13, 188000, tzinfo=SimpleTZ(\"Z\"))), GPXTrackPoint(46.75406667, 17.5741, elevation=98.0, time=datetime.datetime(2021, 6, 25, 2, 39, 14, 188000, tzinfo=SimpleTZ(\"Z\"))), GPXTrackPoint(46.75408667, 17.57416833, elevation=98.0, time=datetime.datetime(2021, 6, 25, 2, 39, 15, 188000, tzinfo=SimpleTZ(\"Z\"))), GPXTrackPoint(46.754105, 17.57423667, elevation=98.0, time=datetime.datetime(2021, 6, 25, 2, 39, 16, 188000, tzinfo=SimpleTZ(\"Z\"))), GPXTrackPoint(46.75411833, 17.57430333, elevation=98.0, time=datetime.datetime(2021, 6, 25, 2, 39, 17, 189000, tzinfo=SimpleTZ(\"Z\"))), GPXTrackPoint(46.75413333, 17.57437, elevation=98.0, time=datetime.datetime(2021, 6, 25, 2, 39, 18, 189000, tzinfo=SimpleTZ(\"Z\"))), GPXTrackPoint(46.75415, 17.57443667, elevation=98.0, time=datetime.datetime(2021, 6, 25, 2, 39, 19, 189000, tzinfo=SimpleTZ(\"Z\"))), GPXTrackPoint(46.754165, 17.57450667, elevation=98.0, time=datetime.datetime(2021, 6, 25, 2, 39, 20, 189000, tzinfo=SimpleTZ(\"Z\"))), GPXTrackPoint(46.75417667, 17.57457667, elevation=98.0, time=datetime.datetime(2021, 6, 25, 2, 39, 21, 188000, tzinfo=SimpleTZ(\"Z\"))), GPXTrackPoint(46.75419167, 17.57465333, elevation=98.0, time=datetime.datetime(2021, 6, 25, 2, 39, 22, 188000, tzinfo=SimpleTZ(\"Z\"))), GPXTrackPoint(46.75420833, 17.57473, elevation=98.0, time=datetime.datetime(2021, 6, 25, 2, 39, 23, 188000, tzinfo=SimpleTZ(\"Z\"))), GPXTrackPoint(46.75422667, 17.57480833, elevation=99.0, time=datetime.datetime(2021, 6, 25, 2, 39, 24, 189000, tzinfo=SimpleTZ(\"Z\"))), GPXTrackPoint(46.75424833, 17.57488333, elevation=99.0, time=datetime.datetime(2021, 6, 25, 2, 39, 25, 188000, tzinfo=SimpleTZ(\"Z\"))), GPXTrackPoint(46.75427, 17.57496333, elevation=99.0, time=datetime.datetime(2021, 6, 25, 2, 39, 26, 189000, tzinfo=SimpleTZ(\"Z\"))), GPXTrackPoint(46.75429667, 17.57504333, elevation=99.0, time=datetime.datetime(2021, 6, 25, 2, 39, 27, 189000, tzinfo=SimpleTZ(\"Z\"))), GPXTrackPoint(46.754325, 17.57512, elevation=99.0, time=datetime.datetime(2021, 6, 25, 2, 39, 28, 189000, tzinfo=SimpleTZ(\"Z\"))), GPXTrackPoint(46.75435333, 17.57520167, elevation=99.0, time=datetime.datetime(2021, 6, 25, 2, 39, 29, 189000, tzinfo=SimpleTZ(\"Z\"))), GPXTrackPoint(46.754365, 17.57528667, elevation=100.0, time=datetime.datetime(2021, 6, 25, 2, 39, 30, 189000, tzinfo=SimpleTZ(\"Z\"))), GPXTrackPoint(46.75436833, 17.57537167, elevation=100.0, time=datetime.datetime(2021, 6, 25, 2, 39, 31, 189000, tzinfo=SimpleTZ(\"Z\"))), GPXTrackPoint(46.75437167, 17.57545667, elevation=100.0, time=datetime.datetime(2021, 6, 25, 2, 39, 32, 189000, tzinfo=SimpleTZ(\"Z\"))), GPXTrackPoint(46.75438, 17.57554167, elevation=100.0, time=datetime.datetime(2021, 6, 25, 2, 39, 33, 189000, tzinfo=SimpleTZ(\"Z\"))), GPXTrackPoint(46.75438833, 17.575625, elevation=101.0, time=datetime.datetime(2021, 6, 25, 2, 39, 34, 188000, tzinfo=SimpleTZ(\"Z\"))), GPXTrackPoint(46.754395, 17.57571333, elevation=101.0, time=datetime.datetime(2021, 6, 25, 2, 39, 35, 189000, tzinfo=SimpleTZ(\"Z\"))), GPXTrackPoint(46.7544, 17.57580333, elevation=102.0, time=datetime.datetime(2021, 6, 25, 2, 39, 36, 189000, tzinfo=SimpleTZ(\"Z\"))), GPXTrackPoint(46.75440833, 17.57589, elevation=102.0, time=datetime.datetime(2021, 6, 25, 2, 39, 37, 188000, tzinfo=SimpleTZ(\"Z\"))), GPXTrackPoint(46.754415, 17.57598, elevation=103.0, time=datetime.datetime(2021, 6, 25, 2, 39, 38, 189000, tzinfo=SimpleTZ(\"Z\")))]\n"
     ]
    }
   ],
   "source": [
    "segment = gpx_file.tracks[0].segments[0]\n",
    "print(segment.points[:100])"
   ]
  },
  {
   "cell_type": "code",
   "execution_count": 51,
   "id": "tired-geneva",
   "metadata": {},
   "outputs": [],
   "source": [
    "coordinates = pd.DataFrame([{\n",
    "    'time': p.time,\n",
    "    'latitude': p.latitude,\n",
    "    'longitude': p.longitude,\n",
    "    'elevation': p.elevation} for p in segment.points\n",
    "])\n",
    "coordinates.set_index('time', inplace=True)"
   ]
  },
  {
   "cell_type": "code",
   "execution_count": 52,
   "id": "heard-magnet",
   "metadata": {},
   "outputs": [
    {
     "data": {
      "text/html": [
       "<div>\n",
       "<style scoped>\n",
       "    .dataframe tbody tr th:only-of-type {\n",
       "        vertical-align: middle;\n",
       "    }\n",
       "\n",
       "    .dataframe tbody tr th {\n",
       "        vertical-align: top;\n",
       "    }\n",
       "\n",
       "    .dataframe thead th {\n",
       "        text-align: right;\n",
       "    }\n",
       "</style>\n",
       "<table border=\"1\" class=\"dataframe\">\n",
       "  <thead>\n",
       "    <tr style=\"text-align: right;\">\n",
       "      <th></th>\n",
       "      <th>latitude</th>\n",
       "      <th>longitude</th>\n",
       "      <th>elevation</th>\n",
       "    </tr>\n",
       "    <tr>\n",
       "      <th>time</th>\n",
       "      <th></th>\n",
       "      <th></th>\n",
       "      <th></th>\n",
       "    </tr>\n",
       "  </thead>\n",
       "  <tbody>\n",
       "    <tr>\n",
       "      <th>2021-06-25 02:37:59.188000+00:00</th>\n",
       "      <td>46.754178</td>\n",
       "      <td>17.570482</td>\n",
       "      <td>90.0</td>\n",
       "    </tr>\n",
       "    <tr>\n",
       "      <th>2021-06-25 02:38:00.188000+00:00</th>\n",
       "      <td>46.754178</td>\n",
       "      <td>17.570482</td>\n",
       "      <td>90.0</td>\n",
       "    </tr>\n",
       "    <tr>\n",
       "      <th>2021-06-25 02:38:01.188000+00:00</th>\n",
       "      <td>46.754175</td>\n",
       "      <td>17.570480</td>\n",
       "      <td>90.0</td>\n",
       "    </tr>\n",
       "    <tr>\n",
       "      <th>2021-06-25 02:38:02.188000+00:00</th>\n",
       "      <td>46.754157</td>\n",
       "      <td>17.570477</td>\n",
       "      <td>90.0</td>\n",
       "    </tr>\n",
       "    <tr>\n",
       "      <th>2021-06-25 02:38:03.188000+00:00</th>\n",
       "      <td>46.754137</td>\n",
       "      <td>17.570477</td>\n",
       "      <td>91.0</td>\n",
       "    </tr>\n",
       "  </tbody>\n",
       "</table>\n",
       "</div>"
      ],
      "text/plain": [
       "                                   latitude  longitude  elevation\n",
       "time                                                             \n",
       "2021-06-25 02:37:59.188000+00:00  46.754178  17.570482       90.0\n",
       "2021-06-25 02:38:00.188000+00:00  46.754178  17.570482       90.0\n",
       "2021-06-25 02:38:01.188000+00:00  46.754175  17.570480       90.0\n",
       "2021-06-25 02:38:02.188000+00:00  46.754157  17.570477       90.0\n",
       "2021-06-25 02:38:03.188000+00:00  46.754137  17.570477       91.0"
      ]
     },
     "execution_count": 52,
     "metadata": {},
     "output_type": "execute_result"
    }
   ],
   "source": [
    "coordinates.head()"
   ]
  },
  {
   "cell_type": "code",
   "execution_count": 54,
   "id": "diagnostic-mozambique",
   "metadata": {},
   "outputs": [
    {
     "data": {
      "text/plain": [
       "[<matplotlib.lines.Line2D at 0x2260136f820>]"
      ]
     },
     "execution_count": 54,
     "metadata": {},
     "output_type": "execute_result"
    },
    {
     "data": {
      "image/png": "[encoded data removed]",
      "text/plain": [
       "<Figure size 432x288 with 1 Axes>"
      ]
     },
     "metadata": {
      "needs_background": "light"
     },
     "output_type": "display_data"
    }
   ],
   "source": [
    "plt.plot(coordinates['longitude'], coordinates['latitude'])"
   ]
  },
  {
   "cell_type": "code",
   "execution_count": null,
   "id": "electoral-likelihood",
   "metadata": {},
   "outputs": [],
   "source": []
  }
 ],
 "metadata": {
  "kernelspec": {
   "display_name": "Python 3",
   "language": "python",
   "name": "python3"
  },
  "language_info": {
   "codemirror_mode": {
    "name": "ipython",
    "version": 3
   },
   "file_extension": ".py",
   "mimetype": "text/x-python",
   "name": "python",
   "nbconvert_exporter": "python",
   "pygments_lexer": "ipython3",
   "version": "3.9.6"
  }
 },
 "nbformat": 4,
 "nbformat_minor": 5
}
